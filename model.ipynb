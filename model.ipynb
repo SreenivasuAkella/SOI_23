{
 "cells": [
  {
   "cell_type": "code",
   "execution_count": 8,
   "id": "b2060366",
   "metadata": {},
   "outputs": [],
   "source": [
    "import pandas as pd\n",
    "import numpy as np\n",
    "import matplotlib.pyplot as plt\n",
    "import math\n",
    "import random\n",
    "from sklearn.linear_model import LinearRegression\n",
    "from sklearn.preprocessing import PolynomialFeatures\n",
    "from sklearn.model_selection import train_test_split\n",
    "from sklearn.metrics import classification_report, confusion_matrix\n",
    "from sklearn.metrics import accuracy_score\n",
    "from sklearn.metrics import log_loss\n",
    "from sklearn.metrics import r2_score"
   ]
  },
  {
   "cell_type": "code",
   "execution_count": 2,
   "id": "def48b97",
   "metadata": {},
   "outputs": [],
   "source": [
    "def red(x,y):\n",
    "    m=sum(x)/len(x)\n",
    "    st=np.std(x)\n",
    "    for i in range(len(x)):\n",
    "        x[i]=(x[i]-m)/st\n",
    "    m=sum(y)/len(x)\n",
    "    st=np.std(y)\n",
    "    for i in range(len(y)):\n",
    "        y[i]=(y[i]-m)/st"
   ]
  },
  {
   "cell_type": "code",
   "execution_count": 3,
   "id": "13e1e9c8",
   "metadata": {},
   "outputs": [],
   "source": [
    "def sh(x,y,q):\n",
    "    jack=[]\n",
    "    for i in range(len(x)):\n",
    "        jack.append([[x[i]],y[i]])\n",
    "    random.seed(q)\n",
    "    random.shuffle(jack)\n",
    "    x=[]\n",
    "    y=[]\n",
    "    for i in range(len(jack)):\n",
    "        x.append(jack[i][0])\n",
    "        y.append(jack[i][1])\n",
    "    return x,y"
   ]
  },
  {
   "cell_type": "code",
   "execution_count": 27,
   "id": "21b8b372",
   "metadata": {},
   "outputs": [],
   "source": [
    "def fun(x,y,g):\n",
    "    traningSet=x[:]\n",
    "    traningSety=y[:]\n",
    "    X=LinearRegression()\n",
    "    superModel=PolynomialFeatures(g)\n",
    "    polx=superModel.fit_transform(traningSet)\n",
    "    X.fit(polx,traningSety)\n",
    "    pp=X.predict(polx)\n",
    "#     print(r2_score(traningSety,pp))\n",
    "    return(X.coef_+X.intercept_)\n",
    "def qh(x,y,q):\n",
    "    jack=[]\n",
    "    for i in range(len(x)):\n",
    "        jack.append([x[i],y[i]])\n",
    "    random.seed(q)\n",
    "    random.shuffle(jack)\n",
    "    x=[]\n",
    "    y=[]\n",
    "    for i in range(len(jack)):\n",
    "        x.append(jack[i][0])\n",
    "        y.append(jack[i][1])\n",
    "    return x,y\n",
    "def sd(ordinates):\n",
    "    times=[]\n",
    "    nades=[]\n",
    "    for i in range(len(ordinates)):\n",
    "        times.append(ordinates[i][-1])\n",
    "        nades.append(ordinates[i][:-1])\n",
    "    return nades, times"
   ]
  },
  {
   "cell_type": "code",
   "execution_count": 29,
   "id": "d93bfee9",
   "metadata": {
    "scrolled": false
   },
   "outputs": [],
   "source": [
    "m=[]\n",
    "\n",
    "for i in range(809):\n",
    "    s=\"s\"\n",
    "    for j in range(4-len(str(i))):\n",
    "        s=s+\"0\"\n",
    "    file=s+str(i)+\".csv\"\n",
    "    ordinates=[]\n",
    "    dataForTest1=pd.read_csv(file)\n",
    "    s=set()\n",
    "    for x in dataForTest1['time']:\n",
    "        s.add(x)\n",
    "    s=list(s)\n",
    "    d={}\n",
    "    num=0\n",
    "    for it in s[:]:\n",
    "        data=dataForTest1[dataForTest1['time']==it]\n",
    "        x=[]\n",
    "        y=[]\n",
    "        for i in data['intensity']:\n",
    "            y.append(math.log(i+0.001))\n",
    "        for i in data['mass']:\n",
    "            x.append(i)\n",
    "        red(x,y)\n",
    "        alpha,beta=sh(x,y,2559)\n",
    "        ordinates.append(list(fun(alpha,beta,6)))\n",
    "        ordinates[num].append(it)\n",
    "        num+=1\n",
    "    nades, times = sd(ordinates)\n",
    "    delta,gama=qh(nades,times,2559)\n",
    "    m.append(fun(delta,gama,1))\n",
    "# print(m)"
   ]
  },
  {
   "cell_type": "code",
   "execution_count": 84,
   "id": "436c5a41",
   "metadata": {},
   "outputs": [],
   "source": [
    "mtest = []\n",
    "for i in range(809,1121):\n",
    "    s=\"s\"\n",
    "    for j in range(4-len(str(i))):\n",
    "        s=s+\"0\"\n",
    "    file=s+str(i)+\".csv\"\n",
    "    ordinates=[]\n",
    "    dataForTest1=pd.read_csv(file)\n",
    "    s=set()\n",
    "    for x in dataForTest1['time']:\n",
    "        s.add(x)\n",
    "    s=list(s)\n",
    "    d={}\n",
    "    num=0\n",
    "    for it in s[:]:\n",
    "        data=dataForTest1[dataForTest1['time']==it]\n",
    "        x=[]\n",
    "        y=[]\n",
    "        for i in data['intensity']:\n",
    "            y.append(math.log(i+0.001))\n",
    "        for i in data['mass']:\n",
    "            x.append(i)\n",
    "        red(x,y)\n",
    "        alpha,beta=sh(x,y,2559)\n",
    "        ordinates.append(list(fun(alpha,beta,6)))\n",
    "        ordinates[num].append(it)\n",
    "        num+=1\n",
    "    nades, times = sd(ordinates)\n",
    "    delta,gama=qh(nades,times,2559)\n",
    "    mtest.append(fun(delta,gama,1))"
   ]
  },
  {
   "cell_type": "code",
   "execution_count": null,
   "id": "43695b97",
   "metadata": {},
   "outputs": [],
   "source": [
    "from sklearn.svm import SVC"
   ]
  },
  {
   "cell_type": "code",
   "execution_count": 35,
   "id": "1a9ac66d",
   "metadata": {},
   "outputs": [],
   "source": [
    "dataForTest2=pd.read_csv('train_labels.csv')"
   ]
  },
  {
   "cell_type": "code",
   "execution_count": 151,
   "id": "c138d3b9",
   "metadata": {},
   "outputs": [],
   "source": [
    "aps = []\n",
    "X = m\n",
    "for column in dataForTest2:\n",
    "    if column != \"sample_id\":\n",
    "        Y = dataForTest2[column]\n",
    "        x_train, x_test, y_train, y_test= train_test_split(X, Y, test_size= 0.33, random_state=100)  \n",
    "        svm = SVC(kernel ='poly', degree = 5, random_state=0)  \n",
    "        svm.fit(x_train, y_train)\n",
    "        y_pred= rndclf.predict(mtest)\n",
    "        aps.append(y_pred)"
   ]
  },
  {
   "cell_type": "code",
   "execution_count": 152,
   "id": "0285a72b",
   "metadata": {},
   "outputs": [
    {
     "name": "stdout",
     "output_type": "stream",
     "text": [
      "9 312\n",
      "1\n",
      "1\n",
      "1\n",
      "1\n",
      "1\n",
      "1\n",
      "1\n",
      "1\n",
      "1\n"
     ]
    }
   ],
   "source": [
    "print(len(aps),len(aps[0]))\n",
    "for x in range(len(aps)):\n",
    "    print(sum(aps[x]) )"
   ]
  },
  {
   "cell_type": "code",
   "execution_count": 118,
   "id": "f6347cf6",
   "metadata": {},
   "outputs": [],
   "source": [
    "f = []\n",
    "for i in range(809,1121):\n",
    "    s=\"S\"\n",
    "    for j in range(4-len(str(i))):\n",
    "        s=s+\"0\"\n",
    "    f.append(s + str(i))\n",
    "f = [ f ]"
   ]
  },
  {
   "cell_type": "code",
   "execution_count": 120,
   "id": "e2a28052",
   "metadata": {},
   "outputs": [
    {
     "name": "stdout",
     "output_type": "stream",
     "text": [
      "312\n",
      "312\n"
     ]
    }
   ],
   "source": [
    "op = f + aps\n",
    "print(len(op[0]))\n",
    "print(len(op[1]))"
   ]
  },
  {
   "cell_type": "code",
   "execution_count": 122,
   "id": "bdf29e60",
   "metadata": {},
   "outputs": [],
   "source": [
    "ans = np.array(op)\n",
    "ans = ans.transpose()"
   ]
  },
  {
   "cell_type": "code",
   "execution_count": 148,
   "id": "797fff14",
   "metadata": {},
   "outputs": [
    {
     "name": "stdout",
     "output_type": "stream",
     "text": [
      "312 10\n",
      "['S0809', '0', '0', '0', '0', '0', '0', '0', '0', '0']\n"
     ]
    },
    {
     "ename": "TypeError",
     "evalue": "unsupported operand type(s) for +: 'int' and 'numpy.str_'",
     "output_type": "error",
     "traceback": [
      "\u001b[1;31m---------------------------------------------------------------------------\u001b[0m",
      "\u001b[1;31mTypeError\u001b[0m                                 Traceback (most recent call last)",
      "Cell \u001b[1;32mIn[148], line 8\u001b[0m\n\u001b[0;32m      6\u001b[0m     ans[x] \u001b[38;5;241m=\u001b[39m \u001b[38;5;28mlist\u001b[39m(ans[x])\n\u001b[0;32m      7\u001b[0m     \u001b[38;5;28;01mif\u001b[39;00m x \u001b[38;5;241m!=\u001b[39m \u001b[38;5;241m0\u001b[39m:\n\u001b[1;32m----> 8\u001b[0m         s \u001b[38;5;241m+\u001b[39m\u001b[38;5;241m=\u001b[39m \u001b[38;5;28;43msum\u001b[39;49m\u001b[43m(\u001b[49m\u001b[43mans\u001b[49m\u001b[43m[\u001b[49m\u001b[43mx\u001b[49m\u001b[43m]\u001b[49m\u001b[43m)\u001b[49m \n\u001b[0;32m      9\u001b[0m \u001b[38;5;28mprint\u001b[39m(\u001b[38;5;28mtype\u001b[39m(ans[\u001b[38;5;241m0\u001b[39m]),s)\n",
      "\u001b[1;31mTypeError\u001b[0m: unsupported operand type(s) for +: 'int' and 'numpy.str_'"
     ]
    }
   ],
   "source": [
    "print(len(ans),len(ans[0]))\n",
    "print(ans[0])\n",
    "s = 0\n",
    "for x in range(len(ans)):\n",
    "    \n",
    "    ans[x] = list(ans[x])\n",
    "    if x != 0:\n",
    "        s += sum(ans[x]) \n",
    "print(type(ans[0]),s)"
   ]
  },
  {
   "cell_type": "code",
   "execution_count": 141,
   "id": "f055e752",
   "metadata": {},
   "outputs": [
    {
     "name": "stdout",
     "output_type": "stream",
     "text": [
      "<class 'list'>\n"
     ]
    }
   ],
   "source": [
    "fields = []\n",
    "for column in dataForTest2:\n",
    "    fields.append(column)\n",
    "# ans = list(ans)\n",
    "print(type(ans[0]))"
   ]
  },
  {
   "cell_type": "code",
   "execution_count": 145,
   "id": "6d92d53a",
   "metadata": {},
   "outputs": [],
   "source": [
    "import csv\n",
    "with open('whatever.csv', 'w', newline='') as file:\n",
    "    writer = csv.writer(file)\n",
    "    writer.writerows(ans)"
   ]
  },
  {
   "cell_type": "code",
   "execution_count": 100,
   "id": "4eef99e0",
   "metadata": {},
   "outputs": [
    {
     "name": "stdout",
     "output_type": "stream",
     "text": [
      "sample_id\n",
      "aromatic\n",
      "hydrocarbon\n",
      "carboxylic_acid\n",
      "nitrogen_bearing_compound\n",
      "chlorine_bearing_compound\n",
      "sulfur_bearing_compound\n",
      "alcohol\n",
      "other_oxygen_bearing_compound\n",
      "mineral\n"
     ]
    }
   ],
   "source": [
    "for column in dataForTest2:\n",
    "    print(column)"
   ]
  },
  {
   "cell_type": "code",
   "execution_count": 69,
   "id": "50cc2394",
   "metadata": {},
   "outputs": [],
   "source": [
    "# X = m\n",
    "# Y = dataForTest2['aromatic']"
   ]
  },
  {
   "cell_type": "code",
   "execution_count": 82,
   "id": "4f12d26d",
   "metadata": {},
   "outputs": [],
   "source": [
    "x_train, x_test, y_train, y_test= train_test_split(X, Y, test_size= 0.01, random_state=100)  "
   ]
  },
  {
   "cell_type": "code",
   "execution_count": 71,
   "id": "ba017118",
   "metadata": {},
   "outputs": [],
   "source": [
    "# from sklearn.ensemble import RandomForestClassifier"
   ]
  },
  {
   "cell_type": "code",
   "execution_count": 72,
   "id": "1259bc82",
   "metadata": {},
   "outputs": [],
   "source": [
    "# rndclf = RandomForestClassifier(n_estimators = 5000).fit(x_train, y_train)"
   ]
  },
  {
   "cell_type": "code",
   "execution_count": 73,
   "id": "0cd93a88",
   "metadata": {},
   "outputs": [],
   "source": [
    "# y_pred= rndclf.predict(x_test) "
   ]
  },
  {
   "cell_type": "code",
   "execution_count": 74,
   "id": "ac3dea42",
   "metadata": {},
   "outputs": [
    {
     "name": "stdout",
     "output_type": "stream",
     "text": [
      "3.7798587823793266\n",
      "-0.15370370370370368\n"
     ]
    }
   ],
   "source": [
    "# print(log_loss(y_test, y_pred))\n",
    "# print(r2_score(y_test,y_pred))"
   ]
  },
  {
   "cell_type": "code",
   "execution_count": 75,
   "id": "ee3eaaf5",
   "metadata": {},
   "outputs": [
    {
     "data": {
      "text/plain": [
       "array([[239,   1],\n",
       "       [ 27,   0]], dtype=int64)"
      ]
     },
     "execution_count": 75,
     "metadata": {},
     "output_type": "execute_result"
    }
   ],
   "source": [
    "# confusion_matrix(y_test, y_pred)  "
   ]
  },
  {
   "cell_type": "code",
   "execution_count": 76,
   "id": "84dd5c25",
   "metadata": {},
   "outputs": [],
   "source": [
    "from sklearn.svm import SVC"
   ]
  },
  {
   "cell_type": "code",
   "execution_count": 77,
   "id": "d92e7782",
   "metadata": {},
   "outputs": [
    {
     "data": {
      "text/html": [
       "<style>#sk-container-id-4 {color: black;background-color: white;}#sk-container-id-4 pre{padding: 0;}#sk-container-id-4 div.sk-toggleable {background-color: white;}#sk-container-id-4 label.sk-toggleable__label {cursor: pointer;display: block;width: 100%;margin-bottom: 0;padding: 0.3em;box-sizing: border-box;text-align: center;}#sk-container-id-4 label.sk-toggleable__label-arrow:before {content: \"▸\";float: left;margin-right: 0.25em;color: #696969;}#sk-container-id-4 label.sk-toggleable__label-arrow:hover:before {color: black;}#sk-container-id-4 div.sk-estimator:hover label.sk-toggleable__label-arrow:before {color: black;}#sk-container-id-4 div.sk-toggleable__content {max-height: 0;max-width: 0;overflow: hidden;text-align: left;background-color: #f0f8ff;}#sk-container-id-4 div.sk-toggleable__content pre {margin: 0.2em;color: black;border-radius: 0.25em;background-color: #f0f8ff;}#sk-container-id-4 input.sk-toggleable__control:checked~div.sk-toggleable__content {max-height: 200px;max-width: 100%;overflow: auto;}#sk-container-id-4 input.sk-toggleable__control:checked~label.sk-toggleable__label-arrow:before {content: \"▾\";}#sk-container-id-4 div.sk-estimator input.sk-toggleable__control:checked~label.sk-toggleable__label {background-color: #d4ebff;}#sk-container-id-4 div.sk-label input.sk-toggleable__control:checked~label.sk-toggleable__label {background-color: #d4ebff;}#sk-container-id-4 input.sk-hidden--visually {border: 0;clip: rect(1px 1px 1px 1px);clip: rect(1px, 1px, 1px, 1px);height: 1px;margin: -1px;overflow: hidden;padding: 0;position: absolute;width: 1px;}#sk-container-id-4 div.sk-estimator {font-family: monospace;background-color: #f0f8ff;border: 1px dotted black;border-radius: 0.25em;box-sizing: border-box;margin-bottom: 0.5em;}#sk-container-id-4 div.sk-estimator:hover {background-color: #d4ebff;}#sk-container-id-4 div.sk-parallel-item::after {content: \"\";width: 100%;border-bottom: 1px solid gray;flex-grow: 1;}#sk-container-id-4 div.sk-label:hover label.sk-toggleable__label {background-color: #d4ebff;}#sk-container-id-4 div.sk-serial::before {content: \"\";position: absolute;border-left: 1px solid gray;box-sizing: border-box;top: 0;bottom: 0;left: 50%;z-index: 0;}#sk-container-id-4 div.sk-serial {display: flex;flex-direction: column;align-items: center;background-color: white;padding-right: 0.2em;padding-left: 0.2em;position: relative;}#sk-container-id-4 div.sk-item {position: relative;z-index: 1;}#sk-container-id-4 div.sk-parallel {display: flex;align-items: stretch;justify-content: center;background-color: white;position: relative;}#sk-container-id-4 div.sk-item::before, #sk-container-id-4 div.sk-parallel-item::before {content: \"\";position: absolute;border-left: 1px solid gray;box-sizing: border-box;top: 0;bottom: 0;left: 50%;z-index: -1;}#sk-container-id-4 div.sk-parallel-item {display: flex;flex-direction: column;z-index: 1;position: relative;background-color: white;}#sk-container-id-4 div.sk-parallel-item:first-child::after {align-self: flex-end;width: 50%;}#sk-container-id-4 div.sk-parallel-item:last-child::after {align-self: flex-start;width: 50%;}#sk-container-id-4 div.sk-parallel-item:only-child::after {width: 0;}#sk-container-id-4 div.sk-dashed-wrapped {border: 1px dashed gray;margin: 0 0.4em 0.5em 0.4em;box-sizing: border-box;padding-bottom: 0.4em;background-color: white;}#sk-container-id-4 div.sk-label label {font-family: monospace;font-weight: bold;display: inline-block;line-height: 1.2em;}#sk-container-id-4 div.sk-label-container {text-align: center;}#sk-container-id-4 div.sk-container {/* jupyter's `normalize.less` sets `[hidden] { display: none; }` but bootstrap.min.css set `[hidden] { display: none !important; }` so we also need the `!important` here to be able to override the default hidden behavior on the sphinx rendered scikit-learn.org. See: https://github.com/scikit-learn/scikit-learn/issues/21755 */display: inline-block !important;position: relative;}#sk-container-id-4 div.sk-text-repr-fallback {display: none;}</style><div id=\"sk-container-id-4\" class=\"sk-top-container\"><div class=\"sk-text-repr-fallback\"><pre>SVC(degree=5, kernel=&#x27;poly&#x27;, random_state=0)</pre><b>In a Jupyter environment, please rerun this cell to show the HTML representation or trust the notebook. <br />On GitHub, the HTML representation is unable to render, please try loading this page with nbviewer.org.</b></div><div class=\"sk-container\" hidden><div class=\"sk-item\"><div class=\"sk-estimator sk-toggleable\"><input class=\"sk-toggleable__control sk-hidden--visually\" id=\"sk-estimator-id-4\" type=\"checkbox\" checked><label for=\"sk-estimator-id-4\" class=\"sk-toggleable__label sk-toggleable__label-arrow\">SVC</label><div class=\"sk-toggleable__content\"><pre>SVC(degree=5, kernel=&#x27;poly&#x27;, random_state=0)</pre></div></div></div></div></div>"
      ],
      "text/plain": [
       "SVC(degree=5, kernel='poly', random_state=0)"
      ]
     },
     "execution_count": 77,
     "metadata": {},
     "output_type": "execute_result"
    }
   ],
   "source": [
    "svm = SVC(kernel ='poly', degree = 5, random_state=0)  \n",
    "svm.fit(x_train, y_train) "
   ]
  },
  {
   "cell_type": "code",
   "execution_count": 78,
   "id": "a5397a24",
   "metadata": {},
   "outputs": [],
   "source": [
    "y_pred= svm.predict(x_test)  "
   ]
  },
  {
   "cell_type": "code",
   "execution_count": 79,
   "id": "1bbe0778",
   "metadata": {},
   "outputs": [
    {
     "name": "stdout",
     "output_type": "stream",
     "text": [
      "3.6448638258657793\n",
      "-0.11250000000000004\n"
     ]
    }
   ],
   "source": [
    "print(log_loss(y_test, y_pred))\n",
    "print(r2_score(y_test, y_pred))"
   ]
  },
  {
   "cell_type": "code",
   "execution_count": 56,
   "id": "3edd934f",
   "metadata": {},
   "outputs": [],
   "source": [
    "from sklearn.preprocessing import StandardScaler\n",
    "from sklearn.neighbors import KNeighborsClassifier  \n",
    "st_x= StandardScaler()    \n",
    "x_train= st_x.fit_transform(x_train)    \n",
    "x_test= st_x.transform(x_test) "
   ]
  },
  {
   "cell_type": "code",
   "execution_count": 80,
   "id": "92f88f37",
   "metadata": {},
   "outputs": [
    {
     "data": {
      "text/html": [
       "<style>#sk-container-id-5 {color: black;background-color: white;}#sk-container-id-5 pre{padding: 0;}#sk-container-id-5 div.sk-toggleable {background-color: white;}#sk-container-id-5 label.sk-toggleable__label {cursor: pointer;display: block;width: 100%;margin-bottom: 0;padding: 0.3em;box-sizing: border-box;text-align: center;}#sk-container-id-5 label.sk-toggleable__label-arrow:before {content: \"▸\";float: left;margin-right: 0.25em;color: #696969;}#sk-container-id-5 label.sk-toggleable__label-arrow:hover:before {color: black;}#sk-container-id-5 div.sk-estimator:hover label.sk-toggleable__label-arrow:before {color: black;}#sk-container-id-5 div.sk-toggleable__content {max-height: 0;max-width: 0;overflow: hidden;text-align: left;background-color: #f0f8ff;}#sk-container-id-5 div.sk-toggleable__content pre {margin: 0.2em;color: black;border-radius: 0.25em;background-color: #f0f8ff;}#sk-container-id-5 input.sk-toggleable__control:checked~div.sk-toggleable__content {max-height: 200px;max-width: 100%;overflow: auto;}#sk-container-id-5 input.sk-toggleable__control:checked~label.sk-toggleable__label-arrow:before {content: \"▾\";}#sk-container-id-5 div.sk-estimator input.sk-toggleable__control:checked~label.sk-toggleable__label {background-color: #d4ebff;}#sk-container-id-5 div.sk-label input.sk-toggleable__control:checked~label.sk-toggleable__label {background-color: #d4ebff;}#sk-container-id-5 input.sk-hidden--visually {border: 0;clip: rect(1px 1px 1px 1px);clip: rect(1px, 1px, 1px, 1px);height: 1px;margin: -1px;overflow: hidden;padding: 0;position: absolute;width: 1px;}#sk-container-id-5 div.sk-estimator {font-family: monospace;background-color: #f0f8ff;border: 1px dotted black;border-radius: 0.25em;box-sizing: border-box;margin-bottom: 0.5em;}#sk-container-id-5 div.sk-estimator:hover {background-color: #d4ebff;}#sk-container-id-5 div.sk-parallel-item::after {content: \"\";width: 100%;border-bottom: 1px solid gray;flex-grow: 1;}#sk-container-id-5 div.sk-label:hover label.sk-toggleable__label {background-color: #d4ebff;}#sk-container-id-5 div.sk-serial::before {content: \"\";position: absolute;border-left: 1px solid gray;box-sizing: border-box;top: 0;bottom: 0;left: 50%;z-index: 0;}#sk-container-id-5 div.sk-serial {display: flex;flex-direction: column;align-items: center;background-color: white;padding-right: 0.2em;padding-left: 0.2em;position: relative;}#sk-container-id-5 div.sk-item {position: relative;z-index: 1;}#sk-container-id-5 div.sk-parallel {display: flex;align-items: stretch;justify-content: center;background-color: white;position: relative;}#sk-container-id-5 div.sk-item::before, #sk-container-id-5 div.sk-parallel-item::before {content: \"\";position: absolute;border-left: 1px solid gray;box-sizing: border-box;top: 0;bottom: 0;left: 50%;z-index: -1;}#sk-container-id-5 div.sk-parallel-item {display: flex;flex-direction: column;z-index: 1;position: relative;background-color: white;}#sk-container-id-5 div.sk-parallel-item:first-child::after {align-self: flex-end;width: 50%;}#sk-container-id-5 div.sk-parallel-item:last-child::after {align-self: flex-start;width: 50%;}#sk-container-id-5 div.sk-parallel-item:only-child::after {width: 0;}#sk-container-id-5 div.sk-dashed-wrapped {border: 1px dashed gray;margin: 0 0.4em 0.5em 0.4em;box-sizing: border-box;padding-bottom: 0.4em;background-color: white;}#sk-container-id-5 div.sk-label label {font-family: monospace;font-weight: bold;display: inline-block;line-height: 1.2em;}#sk-container-id-5 div.sk-label-container {text-align: center;}#sk-container-id-5 div.sk-container {/* jupyter's `normalize.less` sets `[hidden] { display: none; }` but bootstrap.min.css set `[hidden] { display: none !important; }` so we also need the `!important` here to be able to override the default hidden behavior on the sphinx rendered scikit-learn.org. See: https://github.com/scikit-learn/scikit-learn/issues/21755 */display: inline-block !important;position: relative;}#sk-container-id-5 div.sk-text-repr-fallback {display: none;}</style><div id=\"sk-container-id-5\" class=\"sk-top-container\"><div class=\"sk-text-repr-fallback\"><pre>KNeighborsClassifier(n_neighbors=2)</pre><b>In a Jupyter environment, please rerun this cell to show the HTML representation or trust the notebook. <br />On GitHub, the HTML representation is unable to render, please try loading this page with nbviewer.org.</b></div><div class=\"sk-container\" hidden><div class=\"sk-item\"><div class=\"sk-estimator sk-toggleable\"><input class=\"sk-toggleable__control sk-hidden--visually\" id=\"sk-estimator-id-5\" type=\"checkbox\" checked><label for=\"sk-estimator-id-5\" class=\"sk-toggleable__label sk-toggleable__label-arrow\">KNeighborsClassifier</label><div class=\"sk-toggleable__content\"><pre>KNeighborsClassifier(n_neighbors=2)</pre></div></div></div></div></div>"
      ],
      "text/plain": [
       "KNeighborsClassifier(n_neighbors=2)"
      ]
     },
     "execution_count": 80,
     "metadata": {},
     "output_type": "execute_result"
    }
   ],
   "source": [
    "knn= KNeighborsClassifier(n_neighbors=2, metric='minkowski', p=2 )  \n",
    "knn.fit(x_train, y_train)   "
   ]
  },
  {
   "cell_type": "code",
   "execution_count": 81,
   "id": "0a5d937d",
   "metadata": {},
   "outputs": [
    {
     "name": "stdout",
     "output_type": "stream",
     "text": [
      "3.7798587823793266\n",
      "-0.15370370370370368\n"
     ]
    }
   ],
   "source": [
    "y_pred = knn.predict(x_test)\n",
    "print(log_loss(y_test, y_pred))\n",
    "print(r2_score(y_test,y_pred))"
   ]
  }
 ],
 "metadata": {
  "kernelspec": {
   "display_name": "Python 3 (ipykernel)",
   "language": "python",
   "name": "python3"
  },
  "language_info": {
   "codemirror_mode": {
    "name": "ipython",
    "version": 3
   },
   "file_extension": ".py",
   "mimetype": "text/x-python",
   "name": "python",
   "nbconvert_exporter": "python",
   "pygments_lexer": "ipython3",
   "version": "3.11.3"
  }
 },
 "nbformat": 4,
 "nbformat_minor": 5
}
